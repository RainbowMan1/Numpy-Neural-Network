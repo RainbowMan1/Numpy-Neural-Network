{
 "cells": [
  {
   "cell_type": "code",
   "execution_count": null,
   "metadata": {
    "id": "UZeOEvU3XWUQ"
   },
   "outputs": [],
   "source": [
    "import numpy as np\n",
    "import gzip\n",
    "import matplotlib.pyplot as plt"
   ]
  },
  {
   "cell_type": "code",
   "execution_count": null,
   "metadata": {
    "colab": {
     "base_uri": "https://localhost:8080/"
    },
    "id": "aNLhcQOsXZ5Y",
    "outputId": "99f87741-4239-4e19-b2df-870d986f6eb6"
   },
   "outputs": [
    {
     "name": "stdout",
     "output_type": "stream",
     "text": [
      "  % Total    % Received % Xferd  Average Speed   Time    Time     Time  Current\n",
      "                                 Dload  Upload   Total   Spent    Left  Speed\n",
      "100 9680k  100 9680k    0     0  25.4M      0 --:--:-- --:--:-- --:--:-- 25.4M\n",
      "  % Total    % Received % Xferd  Average Speed   Time    Time     Time  Current\n",
      "                                 Dload  Upload   Total   Spent    Left  Speed\n",
      "100 28881  100 28881    0     0   200k      0 --:--:-- --:--:-- --:--:--  200k\n",
      "  % Total    % Received % Xferd  Average Speed   Time    Time     Time  Current\n",
      "                                 Dload  Upload   Total   Spent    Left  Speed\n",
      "100 1610k  100 1610k    0     0  6492k      0 --:--:-- --:--:-- --:--:-- 6492k\n",
      "  % Total    % Received % Xferd  Average Speed   Time    Time     Time  Current\n",
      "                                 Dload  Upload   Total   Spent    Left  Speed\n",
      "100  4542  100  4542    0     0  37850      0 --:--:-- --:--:-- --:--:-- 37850\n"
     ]
    }
   ],
   "source": [
    "!curl https://ossci-datasets.s3.amazonaws.com/mnist/train-images-idx3-ubyte.gz --output train.gz\n",
    "!curl https://ossci-datasets.s3.amazonaws.com/mnist/train-labels-idx1-ubyte.gz --output train_label.gz\n",
    "!curl https://ossci-datasets.s3.amazonaws.com/mnist/t10k-images-idx3-ubyte.gz --output test.gz\n",
    "!curl https://ossci-datasets.s3.amazonaws.com/mnist/t10k-labels-idx1-ubyte.gz --output test_label.gz"
   ]
  },
  {
   "cell_type": "code",
   "execution_count": null,
   "metadata": {
    "id": "v3jK8qVYIr7T"
   },
   "outputs": [],
   "source": [
    "f = gzip.open('train.gz','r')\n",
    "f.read(16)\n",
    "buf = f.read()\n",
    "data = np.frombuffer(buf, dtype=np.uint8).astype(np.float32)\n",
    "data = data.reshape(-1, 784)\n",
    "train = data"
   ]
  },
  {
   "cell_type": "code",
   "execution_count": null,
   "metadata": {
    "id": "8Wp9p0wzOdIo"
   },
   "outputs": [],
   "source": [
    "f = gzip.open('train_label.gz','r')\n",
    "f.read(8)\n",
    "buf = f.read()\n",
    "data = np.frombuffer(buf, dtype=np.uint8).astype(np.int32)\n",
    "data = data.reshape(-1)\n",
    "labels = data"
   ]
  },
  {
   "cell_type": "code",
   "execution_count": null,
   "metadata": {
    "colab": {
     "base_uri": "https://localhost:8080/",
     "height": 282
    },
    "id": "5HjsLHGWL80V",
    "outputId": "cddcfd3c-ddda-463c-90ff-3e4a8f07a3c8"
   },
   "outputs": [
    {
     "name": "stdout",
     "output_type": "stream",
     "text": [
      "5\n"
     ]
    },
    {
     "data": {
      "image/png": "[encoded data removed]",
      "text/plain": [
       "<Figure size 432x288 with 1 Axes>"
      ]
     },
     "metadata": {
      "needs_background": "light",
      "tags": []
     },
     "output_type": "display_data"
    }
   ],
   "source": [
    "image = np.asarray(train[-3]).squeeze()\n",
    "print(labels[-3])\n",
    "plt.imshow(image.reshape(28,28))\n",
    "plt.show()"
   ]
  },
  {
   "cell_type": "code",
   "execution_count": null,
   "metadata": {
    "id": "yUBGrh12QMK8"
   },
   "outputs": [],
   "source": [
    "def one_hot(a, num_classes):\n",
    "  return np.squeeze(np.eye(num_classes)[a.reshape(-1)])"
   ]
  },
  {
   "cell_type": "code",
   "execution_count": null,
   "metadata": {
    "id": "MYBlAfHfQahU"
   },
   "outputs": [],
   "source": [
    "def relu(x):\n",
    "  return np.maximum(x, 0)"
   ]
  },
  {
   "cell_type": "code",
   "execution_count": null,
   "metadata": {
    "colab": {
     "base_uri": "https://localhost:8080/"
    },
    "id": "oBVgEBTQNE37",
    "outputId": "dbeb0adc-d38d-4e8a-fc55-84799978c2ea"
   },
   "outputs": [
    {
     "data": {
      "text/plain": [
       "array([[1, 1, 1, 1, 0, 0],\n",
       "       [0, 0, 0, 1, 1, 1]])"
      ]
     },
     "execution_count": 10,
     "metadata": {
      "tags": []
     },
     "output_type": "execute_result"
    }
   ],
   "source": [
    "drelu(np.array([[1,2,3,4,-1,-2],[-1,-2,-3,4,5,6]]))"
   ]
  },
  {
   "cell_type": "code",
   "execution_count": null,
   "metadata": {
    "id": "86zJ7KwWMxhf"
   },
   "outputs": [],
   "source": [
    "def drelu(x):\n",
    "  return np.where(x>0,1,0)"
   ]
  },
  {
   "cell_type": "code",
   "execution_count": null,
   "metadata": {
    "id": "U_-iZCXfQc2c"
   },
   "outputs": [],
   "source": [
    "def softmax(x):\n",
    "  exp = np.exp(x)\n",
    "  sum = np.sum(exp,1).reshape(x.shape[0],1)\n",
    "  return np.multiply(exp,1/sum)"
   ]
  },
  {
   "cell_type": "code",
   "execution_count": null,
   "metadata": {
    "id": "cO5ZTgDpM0lw"
   },
   "outputs": [],
   "source": [
    "def dsoftmax(x):\n",
    "  s = softmax(x).reshape(x.shape[0],-1)\n",
    "  func = lambda y: np.diagflat(y) - np.dot(y.reshape(-1,1),y.reshape(-1,1).T) \n",
    "  return np.apply_along_axis(func,1,s)"
   ]
  },
  {
   "cell_type": "code",
   "execution_count": null,
   "metadata": {
    "id": "Ml9Woy2VZvpA"
   },
   "outputs": [],
   "source": [
    "def loss(o,y):\n",
    "  return np.mean(np.sum(np.square(o-y),axis=1))"
   ]
  },
  {
   "cell_type": "code",
   "execution_count": null,
   "metadata": {
    "colab": {
     "base_uri": "https://localhost:8080/"
    },
    "id": "N4bfmxqfbWPD",
    "outputId": "e6aaf135-2090-471e-cccf-4f692489e2c5"
   },
   "outputs": [
    {
     "data": {
      "text/plain": [
       "2.3776913796388146"
      ]
     },
     "execution_count": 14,
     "metadata": {
      "tags": []
     },
     "output_type": "execute_result"
    }
   ],
   "source": [
    "o = np.random.normal(size = (2,5))\n",
    "y = np.array([[1,0,0,0,0],[0,0,1,0,0]])\n",
    "loss(o,y)"
   ]
  },
  {
   "cell_type": "code",
   "execution_count": null,
   "metadata": {
    "id": "Nq0dmaz9aYmu"
   },
   "outputs": [],
   "source": [
    "def dloss(o,y):\n",
    "  return 2*(o-y)"
   ]
  },
  {
   "cell_type": "code",
   "execution_count": null,
   "metadata": {
    "colab": {
     "base_uri": "https://localhost:8080/"
    },
    "id": "zyux714Mawqy",
    "outputId": "53f001ce-81a0-47da-b0f2-788ae1245e94"
   },
   "outputs": [
    {
     "data": {
      "text/plain": [
       "array([[ 5.35386862e-03,  3.44037972e-04,  2.61098731e-03, ...,\n",
       "        -1.70166683e-01,  4.62514110e-03,  1.49312079e-01],\n",
       "       [ 5.43801814e-04, -1.04740679e-01,  9.86169272e-03, ...,\n",
       "         2.86547646e-03,  5.07593324e-02,  4.06076555e-03],\n",
       "       [-1.72907090e+00,  4.51829960e-03,  1.88627886e-01, ...,\n",
       "         3.63922544e-02,  2.16409317e-01,  4.69087122e-02],\n",
       "       ...,\n",
       "       [ 4.51252493e-04, -2.35238084e-01,  9.91163060e-02, ...,\n",
       "         1.59897018e-03,  8.40673888e-02,  3.06471431e-03],\n",
       "       [ 4.31109244e-04,  1.54306557e-02,  1.68120673e-02, ...,\n",
       "         8.15453950e-04,  2.38426264e-02,  5.90663717e-04],\n",
       "       [ 1.50099932e-03, -2.60812088e-01,  1.40853202e-01, ...,\n",
       "         1.18651559e-02,  4.02084661e-02,  5.91615122e-03]])"
      ]
     },
     "execution_count": 32,
     "metadata": {
      "tags": []
     },
     "output_type": "execute_result"
    }
   ],
   "source": [
    "dloss(o,y)"
   ]
  },
  {
   "cell_type": "code",
   "execution_count": null,
   "metadata": {
    "id": "bN9XYbtvMXG2"
   },
   "outputs": [],
   "source": [
    "class MLP:\n",
    "  def __init__(self, batch_size=32, lr = 0.001):\n",
    "    self.linear1_matrix = np.random.normal(0,0.02,size = (200,784))\n",
    "    self.linear1_bias = np.zeros(200)\n",
    "    self.linear2_matrix = np.random.normal(0,0.02,size= (100,200))\n",
    "    self.linear2_bias = np.zeros(100)\n",
    "    self.linear3_matrix = np.random.normal(0,0.02,size=(10,100))\n",
    "    self.linear3_bias = np.zeros(10)\n",
    "    self.cache = {}\n",
    "    self.lr = lr\n",
    "    self.batch_size = batch_size\n",
    "  def forward(self, x):\n",
    "    self.cache['x'] = x\n",
    "    self.cache['z1'] = np.matmul(x,self.linear1_matrix.T) + self.linear1_bias\n",
    "    self.cache['a1'] = relu(self.cache['z1'])\n",
    "    linear1_output = self.cache['a1']\n",
    "    self.cache['z2'] = np.matmul(linear1_output,self.linear2_matrix.T) + self.linear2_bias\n",
    "    self.cache['a2'] = relu(self.cache['z2'])\n",
    "    linear2_output = self.cache['a2']\n",
    "    self.cache['z3'] = np.matmul(linear2_output,self.linear3_matrix.T)+self.linear3_bias\n",
    "    self.cache['a3'] = softmax(self.cache['z3'])\n",
    "    output = self.cache['a3']\n",
    "    return output\n",
    "  def __call__(self, x):\n",
    "    return self.forward(x)\n",
    "  def backward(self,o,y):\n",
    "    da3 = dloss(o,y).reshape(self.batch_size,1,-1)\n",
    "    dz3 = np.matmul(da3,dsoftmax(self.cache['z3']))\n",
    "    db3 = np.mean(dz3,axis =0).reshape(10,)\n",
    "    dwl3 = np.matmul(np.transpose(dz3,axes = (0,2,1)),self.cache['a2'].reshape(self.batch_size,1,-1))\n",
    "    da2 = np.matmul(dz3,self.linear3_matrix).reshape(self.batch_size,1,-1)\n",
    "    dz2 = np.multiply(da2,drelu(self.cache['z2']).reshape(self.batch_size,1,-1))\n",
    "    db2 = np.mean(dz2,axis =0).reshape(100,)\n",
    "    dwl2 = np.matmul(np.transpose(dz2,axes = (0,2,1)),self.cache['a1'].reshape(self.batch_size,1,-1))\n",
    "    da1 = np.matmul(dz2,self.linear2_matrix).reshape(self.batch_size,1,-1)\n",
    "    dz1 = np.multiply(da1,drelu(self.cache['z1']).reshape(self.batch_size,1,-1))\n",
    "    db1 = np.mean(dz1,axis =0).reshape(200,)\n",
    "    dwl1 = np.matmul(np.transpose(dz1, axes = (0,2,1)),self.cache['x'].reshape(self.batch_size,1,-1))\n",
    "    \n",
    "    self.linear3_matrix -= self.lr * np.mean(dwl3,axis =0)\n",
    "    self.linear2_matrix -= self.lr * np.mean(dwl2,axis =0)\n",
    "    self.linear1_matrix -= self.lr * np.mean(dwl1,axis =0)\n",
    "\n",
    "    self.linear3_bias -= self.lr * db3\n",
    "    self.linear2_bias -= self.lr * db2\n",
    "    self.linear1_bias -= self.lr * db1"
   ]
  },
  {
   "cell_type": "code",
   "execution_count": null,
   "metadata": {
    "id": "-kQmTDRNNvp4"
   },
   "outputs": [],
   "source": [
    "batch_size = 1000\n",
    "mlp = MLP(batch_size=batch_size)"
   ]
  },
  {
   "cell_type": "code",
   "execution_count": null,
   "metadata": {
    "id": "S6BDaaCpp9Ft"
   },
   "outputs": [],
   "source": [
    "num_epochs = (30*60000)//batch_size"
   ]
  },
  {
   "cell_type": "code",
   "execution_count": null,
   "metadata": {
    "colab": {
     "base_uri": "https://localhost:8080/"
    },
    "id": "eupJvKVIqO1o",
    "outputId": "c47a453e-116b-4afe-cf1a-78e7254f54f3"
   },
   "outputs": [
    {
     "data": {
      "text/plain": [
       "1800"
      ]
     },
     "execution_count": 102,
     "metadata": {
      "tags": []
     },
     "output_type": "execute_result"
    }
   ],
   "source": [
    "num_epochs"
   ]
  },
  {
   "cell_type": "code",
   "execution_count": null,
   "metadata": {
    "colab": {
     "base_uri": "https://localhost:8080/"
    },
    "id": "AGd80wdUkRa5",
    "outputId": "91ea02c7-354b-4f03-fa18-4c60a34aab76"
   },
   "outputs": [],
   "source": [
    "l=[]\n",
    "for i in range(num_epochs):\n",
    "  index = np.random.randint(0,60000-batch_size)\n",
    "  x = train[index:index+batch_size]\n",
    "  o = mlp(x)\n",
    "  y = one_hot(labels[index:index+batch_size],10)\n",
    "  print(\"Epoch\",i+1,\"Loss\",loss(o,y))\n",
    "  l.append(loss(o,y))\n",
    "  mlp.backward(o,y)"
   ]
  },
  {
   "cell_type": "code",
   "execution_count": null,
   "metadata": {
    "colab": {
     "base_uri": "https://localhost:8080/"
    },
    "id": "05OUDNmKTWfJ",
    "outputId": "9789c9ee-2a32-43d8-b882-976843bde75c"
   },
   "outputs": [
    {
     "data": {
      "text/plain": [
       "array([ 1.18638860e-05, -2.71003920e-06, -4.64872053e-07, -4.54623941e-06,\n",
       "        2.07981892e-05,  1.87687322e-06, -1.55511075e-05,  2.05502607e-05,\n",
       "        1.60891919e-05,  1.10751327e-05, -5.92257474e-06,  1.91095228e-05,\n",
       "        1.40543046e-05,  1.00844706e-05, -5.07148231e-06, -4.46740816e-06,\n",
       "        1.19784632e-05, -1.37495297e-06,  3.29898147e-06,  4.41865292e-06,\n",
       "       -4.76429759e-06,  5.21968721e-06,  5.18840185e-06, -7.65342309e-06,\n",
       "       -4.55529568e-06, -4.04927687e-06,  1.17334683e-05,  1.86474768e-05,\n",
       "       -5.39567033e-06,  1.28944289e-06, -4.97243437e-06, -6.33784638e-06,\n",
       "        1.52637604e-05,  4.45188849e-07,  7.01994591e-06,  8.96720431e-06,\n",
       "       -5.41373115e-06,  1.56667142e-05,  2.58136480e-05,  1.79948042e-06,\n",
       "        1.11496826e-05,  2.95703675e-05,  3.70509494e-07, -2.23685904e-06,\n",
       "        4.32945519e-06,  1.89490316e-05,  2.76189798e-06, -1.44326812e-06,\n",
       "        2.57789102e-06,  1.43074705e-06, -4.67015693e-06,  2.83471441e-05,\n",
       "       -1.07176130e-05,  1.31703928e-06,  1.06216640e-05,  2.41134969e-06,\n",
       "        1.58842948e-06, -5.37676545e-06,  1.19841538e-05,  2.52085410e-05,\n",
       "        1.44859922e-05,  1.88997361e-06,  1.90162542e-05,  1.76940608e-06,\n",
       "        3.06422036e-07, -3.96665267e-06,  1.08027808e-06,  2.80648609e-05,\n",
       "       -2.23871110e-05, -1.63754198e-06,  1.26443382e-06,  4.10346727e-06,\n",
       "       -3.53472128e-06,  1.61661962e-05, -6.20828371e-06,  2.25763812e-06,\n",
       "       -3.48125987e-06,  1.60740469e-05,  1.77916004e-05,  9.36410132e-06,\n",
       "       -1.34778902e-05,  1.07102644e-05,  5.51847683e-06, -6.09456673e-07,\n",
       "       -7.03298135e-06,  9.30951090e-06,  1.90211290e-05, -8.33950114e-06,\n",
       "        1.84214566e-05,  2.22675337e-05,  1.51814136e-05,  1.50100094e-06,\n",
       "        4.17218139e-06,  1.40460575e-05,  1.17055728e-05,  1.39466473e-05,\n",
       "        2.61371380e-05,  2.00033107e-05,  3.58548100e-05,  9.63879683e-06,\n",
       "        1.01660683e-05,  9.73421874e-06,  8.85182111e-06, -3.74197232e-07,\n",
       "       -9.91356643e-06, -5.37364011e-06,  1.54829956e-06,  2.63597945e-06,\n",
       "        1.31185514e-05,  2.44769207e-05, -3.24613531e-06,  1.42823434e-05,\n",
       "       -1.07536404e-05,  7.56553562e-07, -1.20828886e-06,  1.11816280e-05,\n",
       "       -7.93450962e-06,  1.44102751e-05,  7.30124503e-07,  8.29327525e-06,\n",
       "       -9.08339142e-07, -1.33899145e-05,  7.33607992e-06,  2.61803442e-05,\n",
       "       -7.81066853e-06,  8.76422292e-06,  1.01258816e-05,  3.93538826e-06,\n",
       "        1.37037383e-05, -8.20225935e-06, -5.23383278e-06,  1.59572640e-05,\n",
       "       -4.58554155e-06,  9.08165246e-06, -2.72556712e-06,  1.26460835e-05,\n",
       "       -7.82224414e-06, -1.41575669e-06, -1.95805992e-06,  5.59527889e-06,\n",
       "        1.01166735e-05,  1.47500242e-05,  3.02486575e-06,  8.48953435e-07,\n",
       "       -4.47652584e-06, -1.05040805e-06,  1.20305951e-05,  2.14709270e-05,\n",
       "        1.34635554e-05, -3.44699344e-06,  1.01095216e-05,  1.10172071e-06,\n",
       "        1.16757571e-05,  1.39478547e-05,  8.45996024e-06,  3.32631756e-06,\n",
       "       -4.00477418e-07,  6.70703164e-06, -5.04175709e-08,  1.28154164e-05,\n",
       "        1.94428818e-05,  8.44962149e-06, -8.78446923e-06,  2.61148605e-05,\n",
       "       -9.87656134e-06,  2.72942169e-05, -1.07764555e-05,  5.04046094e-06,\n",
       "        7.26043482e-07,  1.09622313e-05,  1.39773924e-06,  1.62909880e-06,\n",
       "        1.67893147e-05, -1.53950327e-06,  1.71687117e-05,  1.02767750e-06,\n",
       "        8.78301983e-06,  1.22104597e-05, -1.18391780e-05,  1.54459749e-05,\n",
       "       -9.99059527e-06,  2.10841292e-05,  1.29988841e-06,  1.41060537e-05,\n",
       "       -2.64730974e-07,  1.71980233e-05,  2.07600632e-05,  8.95879850e-06,\n",
       "        1.59325393e-05,  9.72139825e-06,  8.69962259e-06,  3.42336312e-06,\n",
       "       -1.02796834e-05, -6.38334771e-06,  1.98535929e-06,  2.43346180e-06,\n",
       "       -9.64648483e-06,  2.26965077e-06,  2.60861814e-07, -1.19360394e-05])"
      ]
     },
     "execution_count": 104,
     "metadata": {
      "tags": []
     },
     "output_type": "execute_result"
    }
   ],
   "source": [
    "mlp.linear1_bias"
   ]
  },
  {
   "cell_type": "code",
   "execution_count": null,
   "metadata": {
    "colab": {
     "base_uri": "https://localhost:8080/",
     "height": 282
    },
    "id": "eQl2pVjRrzzt",
    "outputId": "0c6ffcb7-aab6-452f-cb69-d8af85d71b64"
   },
   "outputs": [
    {
     "data": {
      "text/plain": [
       "[<matplotlib.lines.Line2D at 0x7f7da8c4b490>]"
      ]
     },
     "execution_count": 105,
     "metadata": {
      "tags": []
     },
     "output_type": "execute_result"
    },
    {
     "data": {
      "image/png": "[encoded data removed]",
      "text/plain": [
       "<Figure size 432x288 with 1 Axes>"
      ]
     },
     "metadata": {
      "needs_background": "light",
      "tags": []
     },
     "output_type": "display_data"
    }
   ],
   "source": [
    "plt.plot(l)"
   ]
  },
  {
   "cell_type": "code",
   "execution_count": null,
   "metadata": {
    "id": "zJE0Pkj7yt4B"
   },
   "outputs": [],
   "source": [
    "ran = np.random.randint(0,60000-32)"
   ]
  },
  {
   "cell_type": "code",
   "execution_count": null,
   "metadata": {
    "colab": {
     "base_uri": "https://localhost:8080/"
    },
    "id": "6jva1MABr29J",
    "outputId": "0c23ff83-f986-461c-854c-9828f3f89ae6"
   },
   "outputs": [
    {
     "data": {
      "text/plain": [
       "array([6, 3, 7, 6, 8, 4, 9, 6, 0, 9, 1, 1, 2, 7, 3, 2, 4, 0, 5, 9, 6, 6,\n",
       "       7, 6, 8, 4, 9, 5, 0, 8, 1, 5])"
      ]
     },
     "execution_count": 107,
     "metadata": {
      "tags": []
     },
     "output_type": "execute_result"
    }
   ],
   "source": [
    "np.argmax(mlp(train[ran:ran+32]),axis = 1)"
   ]
  },
  {
   "cell_type": "code",
   "execution_count": null,
   "metadata": {
    "colab": {
     "base_uri": "https://localhost:8080/"
    },
    "id": "j9sT01ZCr8Fb",
    "outputId": "5ceae7c9-3429-4748-b991-020d3d7c2d46"
   },
   "outputs": [
    {
     "data": {
      "text/plain": [
       "array([6, 3, 7, 6, 8, 4, 9, 5, 0, 9, 1, 1, 2, 7, 3, 2, 4, 0, 5, 9, 6, 6,\n",
       "       7, 6, 8, 4, 9, 5, 0, 8, 1, 5], dtype=int32)"
      ]
     },
     "execution_count": 108,
     "metadata": {
      "tags": []
     },
     "output_type": "execute_result"
    }
   ],
   "source": [
    "labels[ran:ran+32]"
   ]
  },
  {
   "cell_type": "code",
   "execution_count": null,
   "metadata": {
    "colab": {
     "base_uri": "https://localhost:8080/"
    },
    "id": "FFB1DvjosJ1O",
    "outputId": "e98f9204-2096-4b89-fa04-bb16af920ab4"
   },
   "outputs": [
    {
     "data": {
      "text/plain": [
       "24502"
      ]
     },
     "execution_count": 84,
     "metadata": {
      "tags": []
     },
     "output_type": "execute_result"
    }
   ],
   "source": [
    "index"
   ]
  },
  {
   "cell_type": "code",
   "execution_count": null,
   "metadata": {
    "id": "AM-qwXQSuOq3"
   },
   "outputs": [],
   "source": [
    "f = gzip.open('test.gz','r')\n",
    "f.read(16)\n",
    "buf = f.read()\n",
    "data = np.frombuffer(buf, dtype=np.uint8).astype(np.float32)\n",
    "data = data.reshape(-1, 784)\n",
    "test = data"
   ]
  },
  {
   "cell_type": "code",
   "execution_count": null,
   "metadata": {
    "colab": {
     "base_uri": "https://localhost:8080/"
    },
    "id": "J4rbAAEJP22i",
    "outputId": "00492632-5c50-4043-dbd5-124ad3bfda3b"
   },
   "outputs": [
    {
     "data": {
      "text/plain": [
       "(10000, 784)"
      ]
     },
     "execution_count": 110,
     "metadata": {
      "tags": []
     },
     "output_type": "execute_result"
    }
   ],
   "source": [
    "test.shape"
   ]
  },
  {
   "cell_type": "code",
   "execution_count": null,
   "metadata": {
    "id": "dy6VLtmcP3tB"
   },
   "outputs": [],
   "source": [
    "f = gzip.open('test_label.gz','r')\n",
    "f.read(8)\n",
    "buf = f.read()\n",
    "data = np.frombuffer(buf, dtype=np.uint8).astype(np.int32)\n",
    "data = data.reshape(-1)\n",
    "test_labels = data"
   ]
  },
  {
   "cell_type": "code",
   "execution_count": null,
   "metadata": {
    "colab": {
     "base_uri": "https://localhost:8080/"
    },
    "id": "dpTuaee7QHyM",
    "outputId": "fc9d8ae2-1988-4a6f-f6bc-a502b88e7c20"
   },
   "outputs": [
    {
     "data": {
      "text/plain": [
       "0.927"
      ]
     },
     "execution_count": 113,
     "metadata": {
      "tags": []
     },
     "output_type": "execute_result"
    }
   ],
   "source": [
    "np.sum(np.equal(np.argmax(mlp(test),axis=1),test_labels))/10000"
   ]
  },
  {
   "cell_type": "code",
   "execution_count": null,
   "metadata": {
    "colab": {
     "base_uri": "https://localhost:8080/"
    },
    "id": "JjuNDPv4QLb_",
    "outputId": "250c4164-1a75-497d-8a1e-67c89a3e21d0"
   },
   "outputs": [
    {
     "data": {
      "text/plain": [
       "(array([   8,   33,   63,  124,  149,  217,  233,  241,  243,  245,  247,\n",
       "         264,  282,  300,  318,  320,  321,  340,  341,  352,  359,  362,\n",
       "         381,  389,  391,  412,  443,  444,  445,  448,  449,  468,  479,\n",
       "         495,  502,  507,  511,  515,  531,  542,  543,  545,  551,  553,\n",
       "         565,  569,  578,  582,  591,  606,  610,  613,  619,  627,  628,\n",
       "         629,  659,  684,  689,  691,  707,  717,  720,  728,  740,  741,\n",
       "         760,  839,  844,  857,  877,  881,  882,  890,  898,  924,  930,\n",
       "         938,  939,  947,  950,  951,  956,  959,  962,  965,  992, 1003,\n",
       "        1012, 1014, 1033, 1039, 1044, 1062, 1068, 1073, 1107, 1112, 1114,\n",
       "        1119, 1125, 1181, 1182, 1191, 1192, 1194, 1198, 1200, 1204, 1206,\n",
       "        1224, 1226, 1228, 1232, 1234, 1242, 1247, 1248, 1256, 1260, 1283,\n",
       "        1289, 1290, 1298, 1299, 1310, 1315, 1319, 1326, 1337, 1345, 1364,\n",
       "        1375, 1378, 1393, 1403, 1410, 1429, 1444, 1447, 1453, 1463, 1467,\n",
       "        1494, 1500, 1514, 1522, 1525, 1527, 1530, 1549, 1553, 1559, 1581,\n",
       "        1609, 1621, 1634, 1640, 1644, 1678, 1681, 1696, 1709, 1717, 1718,\n",
       "        1722, 1732, 1737, 1740, 1751, 1754, 1759, 1765, 1772, 1790, 1800,\n",
       "        1819, 1823, 1828, 1839, 1850, 1857, 1868, 1874, 1878, 1880, 1901,\n",
       "        1903, 1911, 1930, 1938, 1940, 1942, 1952, 1968, 1970, 1973, 1984,\n",
       "        2016, 2024, 2035, 2040, 2043, 2044, 2053, 2070, 2093, 2098, 2099,\n",
       "        2109, 2118, 2129, 2130, 2135, 2138, 2151, 2182, 2185, 2186, 2189,\n",
       "        2218, 2224, 2266, 2272, 2293, 2298, 2299, 2325, 2351, 2358, 2369,\n",
       "        2370, 2380, 2381, 2387, 2393, 2394, 2395, 2404, 2406, 2422, 2425,\n",
       "        2447, 2449, 2488, 2539, 2548, 2559, 2560, 2573, 2574, 2578, 2598,\n",
       "        2607, 2610, 2631, 2635, 2648, 2654, 2695, 2705, 2713, 2730, 2751,\n",
       "        2754, 2771, 2778, 2780, 2812, 2832, 2850, 2877, 2896, 2906, 2907,\n",
       "        2921, 2925, 2927, 2939, 2945, 2953, 2979, 2986, 2989, 3005, 3060,\n",
       "        3062, 3073, 3078, 3102, 3117, 3130, 3132, 3136, 3145, 3183, 3189,\n",
       "        3193, 3206, 3240, 3289, 3302, 3316, 3329, 3330, 3333, 3384, 3405,\n",
       "        3436, 3460, 3475, 3490, 3503, 3520, 3549, 3550, 3552, 3558, 3559,\n",
       "        3565, 3567, 3573, 3575, 3597, 3598, 3629, 3662, 3687, 3710, 3716,\n",
       "        3718, 3726, 3727, 3730, 3739, 3748, 3751, 3757, 3763, 3764, 3767,\n",
       "        3769, 3776, 3780, 3796, 3806, 3808, 3811, 3817, 3818, 3821, 3833,\n",
       "        3834, 3836, 3838, 3846, 3848, 3853, 3855, 3862, 3869, 3876, 3893,\n",
       "        3902, 3906, 3926, 3941, 3943, 3946, 3951, 3962, 3976, 3985, 3994,\n",
       "        3998, 4000, 4017, 4044, 4063, 4065, 4072, 4075, 4078, 4093, 4111,\n",
       "        4131, 4140, 4152, 4154, 4159, 4163, 4173, 4176, 4187, 4199, 4201,\n",
       "        4203, 4205, 4211, 4212, 4224, 4230, 4238, 4239, 4248, 4254, 4265,\n",
       "        4271, 4284, 4289, 4297, 4300, 4306, 4311, 4315, 4344, 4350, 4355,\n",
       "        4369, 4380, 4405, 4423, 4427, 4433, 4435, 4449, 4451, 4477, 4497,\n",
       "        4498, 4500, 4521, 4523, 4540, 4547, 4567, 4571, 4575, 4578, 4601,\n",
       "        4615, 4616, 4639, 4679, 4702, 4731, 4740, 4751, 4761, 4785, 4807,\n",
       "        4808, 4814, 4823, 4837, 4838, 4852, 4874, 4876, 4879, 4880, 4886,\n",
       "        4890, 4910, 4918, 4923, 4939, 4943, 4950, 4952, 4956, 4966, 4978,\n",
       "        4990, 5001, 5038, 5046, 5065, 5067, 5068, 5086, 5135, 5140, 5165,\n",
       "        5176, 5183, 5210, 5217, 5246, 5288, 5298, 5299, 5331, 5401, 5457,\n",
       "        5525, 5600, 5601, 5611, 5617, 5620, 5634, 5642, 5649, 5677, 5714,\n",
       "        5734, 5735, 5736, 5749, 5752, 5835, 5842, 5887, 5888, 5891, 5913,\n",
       "        5936, 5937, 5955, 5973, 5985, 6034, 6035, 6037, 6042, 6046, 6059,\n",
       "        6065, 6071, 6081, 6091, 6109, 6112, 6124, 6126, 6157, 6166, 6168,\n",
       "        6172, 6173, 6324, 6347, 6391, 6392, 6418, 6421, 6425, 6426, 6480,\n",
       "        6505, 6511, 6517, 6555, 6558, 6560, 6564, 6568, 6577, 6597, 6598,\n",
       "        6599, 6603, 6613, 6625, 6632, 6641, 6642, 6651, 6662, 6706, 6721,\n",
       "        6740, 6744, 6746, 6768, 6772, 6775, 6784, 6785, 6796, 6847, 6872,\n",
       "        6906, 6910, 6926, 6981, 7002, 7121, 7130, 7198, 7212, 7235, 7338,\n",
       "        7432, 7434, 7451, 7473, 7492, 7498, 7511, 7539, 7565, 7637, 7797,\n",
       "        7800, 7812, 7821, 7823, 7842, 7849, 7850, 7858, 7876, 7886, 7888,\n",
       "        7899, 7905, 7917, 7918, 7921, 7928, 7945, 7946, 8020, 8062, 8081,\n",
       "        8091, 8094, 8095, 8165, 8183, 8246, 8272, 8277, 8279, 8294, 8297,\n",
       "        8308, 8332, 8339, 8353, 8410, 8416, 8426, 8431, 8520, 8522, 9008,\n",
       "        9009, 9010, 9015, 9016, 9019, 9024, 9026, 9036, 9044, 9045, 9071,\n",
       "        9103, 9182, 9209, 9211, 9214, 9280, 9316, 9366, 9426, 9427, 9433,\n",
       "        9446, 9465, 9482, 9506, 9544, 9564, 9587, 9595, 9624, 9634, 9642,\n",
       "        9662, 9669, 9679, 9698, 9700, 9716, 9729, 9732, 9733, 9735, 9740,\n",
       "        9742, 9744, 9745, 9749, 9752, 9755, 9764, 9768, 9770, 9777, 9779,\n",
       "        9792, 9808, 9811, 9835, 9839, 9847, 9856, 9858, 9867, 9875, 9879,\n",
       "        9883, 9888, 9890, 9892, 9893, 9905, 9925, 9940, 9941, 9943, 9944,\n",
       "        9970, 9975, 9982, 9986]),)"
      ]
     },
     "execution_count": 115,
     "metadata": {
      "tags": []
     },
     "output_type": "execute_result"
    }
   ],
   "source": [
    "np.where(np.equal(np.argmax(mlp(test),axis=1),test_labels)==False)"
   ]
  },
  {
   "cell_type": "code",
   "execution_count": null,
   "metadata": {
    "colab": {
     "base_uri": "https://localhost:8080/",
     "height": 282
    },
    "id": "66M4Hg2ddEs8",
    "outputId": "1a5e0dbb-ccdb-4311-def9-148667ccf701"
   },
   "outputs": [
    {
     "name": "stdout",
     "output_type": "stream",
     "text": [
      "6\n"
     ]
    },
    {
     "data": {
      "image/png": "[encoded data removed]",
      "text/plain": [
       "<Figure size 432x288 with 1 Axes>"
      ]
     },
     "metadata": {
      "needs_background": "light",
      "tags": []
     },
     "output_type": "display_data"
    }
   ],
   "source": [
    "image = np.asarray(test[6926]).squeeze()\n",
    "print(test_labels[6926])\n",
    "plt.imshow(image.reshape(28,28))\n",
    "plt.show()"
   ]
  },
  {
   "cell_type": "code",
   "execution_count": null,
   "metadata": {
    "id": "U4lCxFe6dcoe"
   },
   "outputs": [],
   "source": [
    "6"
   ]
  }
 ],
 "metadata": {
  "colab": {
   "name": "Backprop Numpy",
   "provenance": []
  },
  "kernelspec": {
   "display_name": "Python 3",
   "language": "python",
   "name": "python3"
  },
  "language_info": {
   "codemirror_mode": {
    "name": "ipython",
    "version": 3
   },
   "file_extension": ".py",
   "mimetype": "text/x-python",
   "name": "python",
   "nbconvert_exporter": "python",
   "pygments_lexer": "ipython3",
   "version": "3.7.9"
  }
 },
 "nbformat": 4,
 "nbformat_minor": 1
}
